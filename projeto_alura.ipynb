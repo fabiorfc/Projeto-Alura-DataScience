{
  "nbformat": 4,
  "nbformat_minor": 0,
  "metadata": {
    "colab": {
      "name": "projeto_alura.ipynb",
      "version": "0.3.2",
      "provenance": [],
      "collapsed_sections": [],
      "toc_visible": true,
      "include_colab_link": true
    },
    "kernelspec": {
      "name": "python3",
      "display_name": "Python 3"
    }
  },
  "cells": [
    {
      "cell_type": "markdown",
      "metadata": {
        "id": "view-in-github",
        "colab_type": "text"
      },
      "source": [
        "<a href=\"https://colab.research.google.com/github/fabiorfc/Projeto-Alura-DataScience/blob/master/projeto_alura.ipynb\" target=\"_parent\"><img src=\"https://colab.research.google.com/assets/colab-badge.svg\" alt=\"Open In Colab\"/></a>"
      ]
    },
    {
      "metadata": {
        "id": "D0e-DeG1b_aV",
        "colab_type": "text"
      },
      "cell_type": "markdown",
      "source": [
        "# 1) Importando as libraries necessarias"
      ]
    },
    {
      "metadata": {
        "id": "V65dssFGcF5d",
        "colab_type": "code",
        "colab": {}
      },
      "cell_type": "code",
      "source": [
        "#@title Library para trabalhar com dataframes\n",
        "import pandas as pd"
      ],
      "execution_count": 0,
      "outputs": []
    },
    {
      "metadata": {
        "id": "Ibwxu7gHe4H8",
        "colab_type": "code",
        "colab": {}
      },
      "cell_type": "code",
      "source": [
        "#@title Librarires para gerar gráficos\n",
        "import seaborn as sns\n",
        "import matplotlib.pyplot as plt"
      ],
      "execution_count": 0,
      "outputs": []
    },
    {
      "metadata": {
        "id": "9_cKpfkxe_r0",
        "colab_type": "code",
        "colab": {}
      },
      "cell_type": "code",
      "source": [
        "#@title Library para trabalhar com álgebra linear\n",
        "import numpy as np"
      ],
      "execution_count": 0,
      "outputs": []
    },
    {
      "metadata": {
        "colab_type": "code",
        "cellView": "both",
        "id": "Ks2udx15yWbz",
        "colab": {}
      },
      "cell_type": "code",
      "source": [
        "#@title library de testes estatísticos\n",
        "from scipy.stats import normaltest,ranksums"
      ],
      "execution_count": 0,
      "outputs": []
    },
    {
      "metadata": {
        "id": "Wl8_CED5cLYz",
        "colab_type": "text"
      },
      "cell_type": "markdown",
      "source": [
        "# 2) Importando os dados"
      ]
    },
    {
      "metadata": {
        "id": "Rf0FdKR0cPzd",
        "colab_type": "code",
        "colab": {}
      },
      "cell_type": "code",
      "source": [
        "link_para_os_dados = \"https://raw.githubusercontent.com/alura-cursos/formacao-data-science/master/movies.csv\"\n",
        "link_para_os_dados2 = \"https://raw.githubusercontent.com/alura-cursos/formacao-data-science/master/ratings.csv\"\n",
        "movies = pd.read_csv(link_para_os_dados)\n",
        "ratings = pd.read_csv(link_para_os_dados2)\n"
      ],
      "execution_count": 0,
      "outputs": []
    },
    {
      "metadata": {
        "id": "Ua5C_ZR2eZ0D",
        "colab_type": "text"
      },
      "cell_type": "markdown",
      "source": [
        "# 3) Verificando o conteúdo dos dados"
      ]
    },
    {
      "metadata": {
        "id": "4dTSgnNEefRF",
        "colab_type": "code",
        "outputId": "2f226ddf-8fc0-4e75-9e83-6e7b2a2a4c58",
        "colab": {
          "base_uri": "https://localhost:8080/",
          "height": 142
        }
      },
      "cell_type": "code",
      "source": [
        "#@title Verificando as colunas da base Movies\n",
        "pd.DataFrame({\"Base Movies\":movies.columns})"
      ],
      "execution_count": 264,
      "outputs": [
        {
          "output_type": "execute_result",
          "data": {
            "text/html": [
              "<div>\n",
              "<style scoped>\n",
              "    .dataframe tbody tr th:only-of-type {\n",
              "        vertical-align: middle;\n",
              "    }\n",
              "\n",
              "    .dataframe tbody tr th {\n",
              "        vertical-align: top;\n",
              "    }\n",
              "\n",
              "    .dataframe thead th {\n",
              "        text-align: right;\n",
              "    }\n",
              "</style>\n",
              "<table border=\"1\" class=\"dataframe\">\n",
              "  <thead>\n",
              "    <tr style=\"text-align: right;\">\n",
              "      <th></th>\n",
              "      <th>Base Movies</th>\n",
              "    </tr>\n",
              "  </thead>\n",
              "  <tbody>\n",
              "    <tr>\n",
              "      <th>0</th>\n",
              "      <td>movieId</td>\n",
              "    </tr>\n",
              "    <tr>\n",
              "      <th>1</th>\n",
              "      <td>title</td>\n",
              "    </tr>\n",
              "    <tr>\n",
              "      <th>2</th>\n",
              "      <td>genres</td>\n",
              "    </tr>\n",
              "  </tbody>\n",
              "</table>\n",
              "</div>"
            ],
            "text/plain": [
              "  Base Movies\n",
              "0     movieId\n",
              "1       title\n",
              "2      genres"
            ]
          },
          "metadata": {
            "tags": []
          },
          "execution_count": 264
        }
      ]
    },
    {
      "metadata": {
        "id": "qlQjhy-TggIu",
        "colab_type": "code",
        "outputId": "718a6c12-57a4-4cf0-ca3a-59074a65be61",
        "colab": {
          "base_uri": "https://localhost:8080/",
          "height": 204
        }
      },
      "cell_type": "code",
      "source": [
        "#@title Top 5 da base Movies\n",
        "movies.head()"
      ],
      "execution_count": 265,
      "outputs": [
        {
          "output_type": "execute_result",
          "data": {
            "text/html": [
              "<div>\n",
              "<style scoped>\n",
              "    .dataframe tbody tr th:only-of-type {\n",
              "        vertical-align: middle;\n",
              "    }\n",
              "\n",
              "    .dataframe tbody tr th {\n",
              "        vertical-align: top;\n",
              "    }\n",
              "\n",
              "    .dataframe thead th {\n",
              "        text-align: right;\n",
              "    }\n",
              "</style>\n",
              "<table border=\"1\" class=\"dataframe\">\n",
              "  <thead>\n",
              "    <tr style=\"text-align: right;\">\n",
              "      <th></th>\n",
              "      <th>movieId</th>\n",
              "      <th>title</th>\n",
              "      <th>genres</th>\n",
              "    </tr>\n",
              "  </thead>\n",
              "  <tbody>\n",
              "    <tr>\n",
              "      <th>0</th>\n",
              "      <td>1</td>\n",
              "      <td>Toy Story (1995)</td>\n",
              "      <td>Adventure|Animation|Children|Comedy|Fantasy</td>\n",
              "    </tr>\n",
              "    <tr>\n",
              "      <th>1</th>\n",
              "      <td>2</td>\n",
              "      <td>Jumanji (1995)</td>\n",
              "      <td>Adventure|Children|Fantasy</td>\n",
              "    </tr>\n",
              "    <tr>\n",
              "      <th>2</th>\n",
              "      <td>3</td>\n",
              "      <td>Grumpier Old Men (1995)</td>\n",
              "      <td>Comedy|Romance</td>\n",
              "    </tr>\n",
              "    <tr>\n",
              "      <th>3</th>\n",
              "      <td>4</td>\n",
              "      <td>Waiting to Exhale (1995)</td>\n",
              "      <td>Comedy|Drama|Romance</td>\n",
              "    </tr>\n",
              "    <tr>\n",
              "      <th>4</th>\n",
              "      <td>5</td>\n",
              "      <td>Father of the Bride Part II (1995)</td>\n",
              "      <td>Comedy</td>\n",
              "    </tr>\n",
              "  </tbody>\n",
              "</table>\n",
              "</div>"
            ],
            "text/plain": [
              "   movieId                               title  \\\n",
              "0        1                    Toy Story (1995)   \n",
              "1        2                      Jumanji (1995)   \n",
              "2        3             Grumpier Old Men (1995)   \n",
              "3        4            Waiting to Exhale (1995)   \n",
              "4        5  Father of the Bride Part II (1995)   \n",
              "\n",
              "                                        genres  \n",
              "0  Adventure|Animation|Children|Comedy|Fantasy  \n",
              "1                   Adventure|Children|Fantasy  \n",
              "2                               Comedy|Romance  \n",
              "3                         Comedy|Drama|Romance  \n",
              "4                                       Comedy  "
            ]
          },
          "metadata": {
            "tags": []
          },
          "execution_count": 265
        }
      ]
    },
    {
      "metadata": {
        "id": "L6AvvRVtgwnb",
        "colab_type": "code",
        "cellView": "both",
        "outputId": "f8a39377-0241-4912-93d8-900ff3700ab9",
        "colab": {
          "base_uri": "https://localhost:8080/",
          "height": 34
        }
      },
      "cell_type": "code",
      "source": [
        "#@title Dimensão da base\n",
        "dimensao = movies.shape\n",
        "print(\"A base de filmes possui: {} Linhas e {} colunas\".format(dimensao[0], dimensao[1]))"
      ],
      "execution_count": 266,
      "outputs": [
        {
          "output_type": "stream",
          "text": [
            "A base de filmes possui: 9742 Linhas e 3 colunas\n"
          ],
          "name": "stdout"
        }
      ]
    },
    {
      "metadata": {
        "id": "s1N_8XyUf96P",
        "colab_type": "code",
        "outputId": "edbb7056-55d6-4c57-ec88-4861470d0452",
        "colab": {
          "base_uri": "https://localhost:8080/",
          "height": 173
        }
      },
      "cell_type": "code",
      "source": [
        "#@title Verificando as colunas da base Ratings\n",
        "pd.DataFrame({\"Base Ratings\": ratings.columns})"
      ],
      "execution_count": 267,
      "outputs": [
        {
          "output_type": "execute_result",
          "data": {
            "text/html": [
              "<div>\n",
              "<style scoped>\n",
              "    .dataframe tbody tr th:only-of-type {\n",
              "        vertical-align: middle;\n",
              "    }\n",
              "\n",
              "    .dataframe tbody tr th {\n",
              "        vertical-align: top;\n",
              "    }\n",
              "\n",
              "    .dataframe thead th {\n",
              "        text-align: right;\n",
              "    }\n",
              "</style>\n",
              "<table border=\"1\" class=\"dataframe\">\n",
              "  <thead>\n",
              "    <tr style=\"text-align: right;\">\n",
              "      <th></th>\n",
              "      <th>Base Ratings</th>\n",
              "    </tr>\n",
              "  </thead>\n",
              "  <tbody>\n",
              "    <tr>\n",
              "      <th>0</th>\n",
              "      <td>userId</td>\n",
              "    </tr>\n",
              "    <tr>\n",
              "      <th>1</th>\n",
              "      <td>movieId</td>\n",
              "    </tr>\n",
              "    <tr>\n",
              "      <th>2</th>\n",
              "      <td>rating</td>\n",
              "    </tr>\n",
              "    <tr>\n",
              "      <th>3</th>\n",
              "      <td>timestamp</td>\n",
              "    </tr>\n",
              "  </tbody>\n",
              "</table>\n",
              "</div>"
            ],
            "text/plain": [
              "  Base Ratings\n",
              "0       userId\n",
              "1      movieId\n",
              "2       rating\n",
              "3    timestamp"
            ]
          },
          "metadata": {
            "tags": []
          },
          "execution_count": 267
        }
      ]
    },
    {
      "metadata": {
        "id": "iAbQ0txGgdOw",
        "colab_type": "code",
        "outputId": "05765522-7ca4-45e0-cc03-d7f08a51da4f",
        "colab": {
          "base_uri": "https://localhost:8080/",
          "height": 204
        }
      },
      "cell_type": "code",
      "source": [
        "#@title Top 5 da base Movies\n",
        "ratings.head()"
      ],
      "execution_count": 268,
      "outputs": [
        {
          "output_type": "execute_result",
          "data": {
            "text/html": [
              "<div>\n",
              "<style scoped>\n",
              "    .dataframe tbody tr th:only-of-type {\n",
              "        vertical-align: middle;\n",
              "    }\n",
              "\n",
              "    .dataframe tbody tr th {\n",
              "        vertical-align: top;\n",
              "    }\n",
              "\n",
              "    .dataframe thead th {\n",
              "        text-align: right;\n",
              "    }\n",
              "</style>\n",
              "<table border=\"1\" class=\"dataframe\">\n",
              "  <thead>\n",
              "    <tr style=\"text-align: right;\">\n",
              "      <th></th>\n",
              "      <th>userId</th>\n",
              "      <th>movieId</th>\n",
              "      <th>rating</th>\n",
              "      <th>timestamp</th>\n",
              "    </tr>\n",
              "  </thead>\n",
              "  <tbody>\n",
              "    <tr>\n",
              "      <th>0</th>\n",
              "      <td>1</td>\n",
              "      <td>1</td>\n",
              "      <td>4.0</td>\n",
              "      <td>964982703</td>\n",
              "    </tr>\n",
              "    <tr>\n",
              "      <th>1</th>\n",
              "      <td>1</td>\n",
              "      <td>3</td>\n",
              "      <td>4.0</td>\n",
              "      <td>964981247</td>\n",
              "    </tr>\n",
              "    <tr>\n",
              "      <th>2</th>\n",
              "      <td>1</td>\n",
              "      <td>6</td>\n",
              "      <td>4.0</td>\n",
              "      <td>964982224</td>\n",
              "    </tr>\n",
              "    <tr>\n",
              "      <th>3</th>\n",
              "      <td>1</td>\n",
              "      <td>47</td>\n",
              "      <td>5.0</td>\n",
              "      <td>964983815</td>\n",
              "    </tr>\n",
              "    <tr>\n",
              "      <th>4</th>\n",
              "      <td>1</td>\n",
              "      <td>50</td>\n",
              "      <td>5.0</td>\n",
              "      <td>964982931</td>\n",
              "    </tr>\n",
              "  </tbody>\n",
              "</table>\n",
              "</div>"
            ],
            "text/plain": [
              "   userId  movieId  rating  timestamp\n",
              "0       1        1     4.0  964982703\n",
              "1       1        3     4.0  964981247\n",
              "2       1        6     4.0  964982224\n",
              "3       1       47     5.0  964983815\n",
              "4       1       50     5.0  964982931"
            ]
          },
          "metadata": {
            "tags": []
          },
          "execution_count": 268
        }
      ]
    },
    {
      "metadata": {
        "id": "O4CQlvE4hoE0",
        "colab_type": "code",
        "outputId": "3f51c693-ee98-4bc4-e3b5-53a7961f7414",
        "colab": {
          "base_uri": "https://localhost:8080/",
          "height": 34
        }
      },
      "cell_type": "code",
      "source": [
        "#@title Dimensao da base ratings\n",
        "dimensoes = ratings.shape\n",
        "print(\"A base ratings possui {} avaliaçoes e {} colunas\".format(dimensoes[0], dimensoes[1]))"
      ],
      "execution_count": 269,
      "outputs": [
        {
          "output_type": "stream",
          "text": [
            "A base ratings possui 100836 avaliaçoes e 4 colunas\n"
          ],
          "name": "stdout"
        }
      ]
    },
    {
      "metadata": {
        "id": "8c9pyJpTim07",
        "colab_type": "text"
      },
      "cell_type": "markdown",
      "source": [
        "# 4) Preparação da base para as análises"
      ]
    },
    {
      "metadata": {
        "id": "FaVsebB2jPfU",
        "colab_type": "code",
        "outputId": "d805a94b-282c-4c01-9c96-7e4b16cd2d32",
        "colab": {
          "base_uri": "https://localhost:8080/",
          "height": 204
        }
      },
      "cell_type": "code",
      "source": [
        "#@title Combinando as bases e gerando um nova tabela com a quantidade de avaliações para cada filme\n",
        "\n",
        "# Alterando o índice da base movies\n",
        "#movies_indexados = movies.set_index(\"movieId\")\n",
        "#ratings_indexados = ratings.set_index(\"movieId\")\n",
        "# Criando uma tabela com a contagem ratings\n",
        "ratings_agrupados = ratings_indexados.groupby(\"movieId\").count()\n",
        "# Unindo as duas tabelas\n",
        "tabela_final = pd.merge(movies, ratings_agrupados, left_on=\"movieId\", right_on=\"movieId\", how=\"left\")\n",
        "tabela_final[\"qtd_avaliacoes\"] = tabela_final[\"userId\"] # Aqui os userId Estão sumarizados (Cada linha de filmes contem a contagem de votos)\n",
        "tabela_final = tabela_final.drop(columns=[\"rating\",\"timestamp\",\"userId\"])\n",
        "# Verificando as base final\n",
        "tabela_final.head()"
      ],
      "execution_count": 270,
      "outputs": [
        {
          "output_type": "execute_result",
          "data": {
            "text/html": [
              "<div>\n",
              "<style scoped>\n",
              "    .dataframe tbody tr th:only-of-type {\n",
              "        vertical-align: middle;\n",
              "    }\n",
              "\n",
              "    .dataframe tbody tr th {\n",
              "        vertical-align: top;\n",
              "    }\n",
              "\n",
              "    .dataframe thead th {\n",
              "        text-align: right;\n",
              "    }\n",
              "</style>\n",
              "<table border=\"1\" class=\"dataframe\">\n",
              "  <thead>\n",
              "    <tr style=\"text-align: right;\">\n",
              "      <th></th>\n",
              "      <th>movieId</th>\n",
              "      <th>title</th>\n",
              "      <th>genres</th>\n",
              "      <th>qtd_avaliacoes</th>\n",
              "    </tr>\n",
              "  </thead>\n",
              "  <tbody>\n",
              "    <tr>\n",
              "      <th>0</th>\n",
              "      <td>1</td>\n",
              "      <td>Toy Story (1995)</td>\n",
              "      <td>Adventure|Animation|Children|Comedy|Fantasy</td>\n",
              "      <td>215.0</td>\n",
              "    </tr>\n",
              "    <tr>\n",
              "      <th>1</th>\n",
              "      <td>2</td>\n",
              "      <td>Jumanji (1995)</td>\n",
              "      <td>Adventure|Children|Fantasy</td>\n",
              "      <td>110.0</td>\n",
              "    </tr>\n",
              "    <tr>\n",
              "      <th>2</th>\n",
              "      <td>3</td>\n",
              "      <td>Grumpier Old Men (1995)</td>\n",
              "      <td>Comedy|Romance</td>\n",
              "      <td>52.0</td>\n",
              "    </tr>\n",
              "    <tr>\n",
              "      <th>3</th>\n",
              "      <td>4</td>\n",
              "      <td>Waiting to Exhale (1995)</td>\n",
              "      <td>Comedy|Drama|Romance</td>\n",
              "      <td>7.0</td>\n",
              "    </tr>\n",
              "    <tr>\n",
              "      <th>4</th>\n",
              "      <td>5</td>\n",
              "      <td>Father of the Bride Part II (1995)</td>\n",
              "      <td>Comedy</td>\n",
              "      <td>49.0</td>\n",
              "    </tr>\n",
              "  </tbody>\n",
              "</table>\n",
              "</div>"
            ],
            "text/plain": [
              "   movieId                               title  \\\n",
              "0        1                    Toy Story (1995)   \n",
              "1        2                      Jumanji (1995)   \n",
              "2        3             Grumpier Old Men (1995)   \n",
              "3        4            Waiting to Exhale (1995)   \n",
              "4        5  Father of the Bride Part II (1995)   \n",
              "\n",
              "                                        genres  qtd_avaliacoes  \n",
              "0  Adventure|Animation|Children|Comedy|Fantasy           215.0  \n",
              "1                   Adventure|Children|Fantasy           110.0  \n",
              "2                               Comedy|Romance            52.0  \n",
              "3                         Comedy|Drama|Romance             7.0  \n",
              "4                                       Comedy            49.0  "
            ]
          },
          "metadata": {
            "tags": []
          },
          "execution_count": 270
        }
      ]
    },
    {
      "metadata": {
        "id": "CTGIA764nsWU",
        "colab_type": "code",
        "outputId": "492be07a-14a7-404b-85c6-a7634786b463",
        "colab": {
          "base_uri": "https://localhost:8080/",
          "height": 376
        }
      },
      "cell_type": "code",
      "source": [
        "#@title Avaliando se existem filmes que não foram avaliados\n",
        "\n",
        "# Cálculo da quantidade de filmes não avaliados e total\n",
        "qtde_filmes_nao_avaliados = sum(tabela_final[\"qtd_avaliacoes\"].isna())\n",
        "total_de_filmes = len(movies)\n",
        "\n",
        "# Gerando os resultados\n",
        "print(\"Não foram avaliados {} de {} filmes\".format(qtde_filmes_nao_avaliados,total_de_filmes))\n",
        "\n",
        "tabela_final[tabela_final[\"qtd_avaliacoes\"].isna()].head(10)"
      ],
      "execution_count": 271,
      "outputs": [
        {
          "output_type": "stream",
          "text": [
            "Não foram avaliados 18 de 9742 filmes\n"
          ],
          "name": "stdout"
        },
        {
          "output_type": "execute_result",
          "data": {
            "text/html": [
              "<div>\n",
              "<style scoped>\n",
              "    .dataframe tbody tr th:only-of-type {\n",
              "        vertical-align: middle;\n",
              "    }\n",
              "\n",
              "    .dataframe tbody tr th {\n",
              "        vertical-align: top;\n",
              "    }\n",
              "\n",
              "    .dataframe thead th {\n",
              "        text-align: right;\n",
              "    }\n",
              "</style>\n",
              "<table border=\"1\" class=\"dataframe\">\n",
              "  <thead>\n",
              "    <tr style=\"text-align: right;\">\n",
              "      <th></th>\n",
              "      <th>movieId</th>\n",
              "      <th>title</th>\n",
              "      <th>genres</th>\n",
              "      <th>qtd_avaliacoes</th>\n",
              "    </tr>\n",
              "  </thead>\n",
              "  <tbody>\n",
              "    <tr>\n",
              "      <th>816</th>\n",
              "      <td>1076</td>\n",
              "      <td>Innocents, The (1961)</td>\n",
              "      <td>Drama|Horror|Thriller</td>\n",
              "      <td>NaN</td>\n",
              "    </tr>\n",
              "    <tr>\n",
              "      <th>2211</th>\n",
              "      <td>2939</td>\n",
              "      <td>Niagara (1953)</td>\n",
              "      <td>Drama|Thriller</td>\n",
              "      <td>NaN</td>\n",
              "    </tr>\n",
              "    <tr>\n",
              "      <th>2499</th>\n",
              "      <td>3338</td>\n",
              "      <td>For All Mankind (1989)</td>\n",
              "      <td>Documentary</td>\n",
              "      <td>NaN</td>\n",
              "    </tr>\n",
              "    <tr>\n",
              "      <th>2587</th>\n",
              "      <td>3456</td>\n",
              "      <td>Color of Paradise, The (Rang-e khoda) (1999)</td>\n",
              "      <td>Drama</td>\n",
              "      <td>NaN</td>\n",
              "    </tr>\n",
              "    <tr>\n",
              "      <th>3118</th>\n",
              "      <td>4194</td>\n",
              "      <td>I Know Where I'm Going! (1945)</td>\n",
              "      <td>Drama|Romance|War</td>\n",
              "      <td>NaN</td>\n",
              "    </tr>\n",
              "    <tr>\n",
              "      <th>4037</th>\n",
              "      <td>5721</td>\n",
              "      <td>Chosen, The (1981)</td>\n",
              "      <td>Drama</td>\n",
              "      <td>NaN</td>\n",
              "    </tr>\n",
              "    <tr>\n",
              "      <th>4506</th>\n",
              "      <td>6668</td>\n",
              "      <td>Road Home, The (Wo de fu qin mu qin) (1999)</td>\n",
              "      <td>Drama|Romance</td>\n",
              "      <td>NaN</td>\n",
              "    </tr>\n",
              "    <tr>\n",
              "      <th>4598</th>\n",
              "      <td>6849</td>\n",
              "      <td>Scrooge (1970)</td>\n",
              "      <td>Drama|Fantasy|Musical</td>\n",
              "      <td>NaN</td>\n",
              "    </tr>\n",
              "    <tr>\n",
              "      <th>4704</th>\n",
              "      <td>7020</td>\n",
              "      <td>Proof (1991)</td>\n",
              "      <td>Comedy|Drama|Romance</td>\n",
              "      <td>NaN</td>\n",
              "    </tr>\n",
              "    <tr>\n",
              "      <th>5020</th>\n",
              "      <td>7792</td>\n",
              "      <td>Parallax View, The (1974)</td>\n",
              "      <td>Thriller</td>\n",
              "      <td>NaN</td>\n",
              "    </tr>\n",
              "  </tbody>\n",
              "</table>\n",
              "</div>"
            ],
            "text/plain": [
              "      movieId                                         title  \\\n",
              "816      1076                         Innocents, The (1961)   \n",
              "2211     2939                                Niagara (1953)   \n",
              "2499     3338                        For All Mankind (1989)   \n",
              "2587     3456  Color of Paradise, The (Rang-e khoda) (1999)   \n",
              "3118     4194                I Know Where I'm Going! (1945)   \n",
              "4037     5721                            Chosen, The (1981)   \n",
              "4506     6668   Road Home, The (Wo de fu qin mu qin) (1999)   \n",
              "4598     6849                                Scrooge (1970)   \n",
              "4704     7020                                  Proof (1991)   \n",
              "5020     7792                     Parallax View, The (1974)   \n",
              "\n",
              "                     genres  qtd_avaliacoes  \n",
              "816   Drama|Horror|Thriller             NaN  \n",
              "2211         Drama|Thriller             NaN  \n",
              "2499            Documentary             NaN  \n",
              "2587                  Drama             NaN  \n",
              "3118      Drama|Romance|War             NaN  \n",
              "4037                  Drama             NaN  \n",
              "4506          Drama|Romance             NaN  \n",
              "4598  Drama|Fantasy|Musical             NaN  \n",
              "4704   Comedy|Drama|Romance             NaN  \n",
              "5020               Thriller             NaN  "
            ]
          },
          "metadata": {
            "tags": []
          },
          "execution_count": 271
        }
      ]
    },
    {
      "metadata": {
        "id": "nuzNNpPat9uD",
        "colab_type": "text"
      },
      "cell_type": "markdown",
      "source": [
        "**Análise**\n",
        "\n",
        "\n",
        "---\n",
        "\n",
        "\n",
        "\n",
        "Como existem filmes que não foram votados, iremos excluí-los da análise"
      ]
    },
    {
      "metadata": {
        "id": "FYgU8aZSuqzi",
        "colab_type": "code",
        "outputId": "3b2125db-345d-4d62-9e4c-7bc06a585a22",
        "colab": {
          "base_uri": "https://localhost:8080/",
          "height": 221
        }
      },
      "cell_type": "code",
      "source": [
        "#@title Combinando novamente a base, via 'inner' join, para retirar os filmes que nao foram votados\n",
        "\n",
        "# Alterando o índice da base movies\n",
        "#movies_indexados = movies.set_index(\"movieId\")\n",
        "#ratings_indexados = ratings.set_index(\"movieId\")\n",
        "# Criando uma tabela com a contagem ratings\n",
        "#ratings_agrupados = ratings_indexados.groupby(\"movieId\").count()\n",
        "# Unindo as duas tabelas\n",
        "tabela_final = pd.merge(movies, ratings_agrupados, left_on=\"movieId\", right_on=\"movieId\", how=\"inner\")\n",
        "tabela_final[\"qtd_avaliacoes\"] = tabela_final[\"userId\"] # Aqui os userId Estão sumarizados (Cada linha de filmes contem a contagem de votos)\n",
        "tabela_final = tabela_final.drop(columns=[\"rating\",\"timestamp\",\"userId\"])\n",
        "\n",
        "# Checagem da quantidade de filmes da base\n",
        "numero_de_filmes_avaliados = tabela_final[\"movieId\"].drop_duplicates().count()\n",
        "print(\"Foram analisados {} de {} filmes\".format(numero_de_filmes_avaliados, total_de_filmes))\n",
        "\n",
        "# Verificando a base final\n",
        "tabela_final.head()"
      ],
      "execution_count": 272,
      "outputs": [
        {
          "output_type": "stream",
          "text": [
            "Foram analisados 9724 de 9742 filmes\n"
          ],
          "name": "stdout"
        },
        {
          "output_type": "execute_result",
          "data": {
            "text/html": [
              "<div>\n",
              "<style scoped>\n",
              "    .dataframe tbody tr th:only-of-type {\n",
              "        vertical-align: middle;\n",
              "    }\n",
              "\n",
              "    .dataframe tbody tr th {\n",
              "        vertical-align: top;\n",
              "    }\n",
              "\n",
              "    .dataframe thead th {\n",
              "        text-align: right;\n",
              "    }\n",
              "</style>\n",
              "<table border=\"1\" class=\"dataframe\">\n",
              "  <thead>\n",
              "    <tr style=\"text-align: right;\">\n",
              "      <th></th>\n",
              "      <th>movieId</th>\n",
              "      <th>title</th>\n",
              "      <th>genres</th>\n",
              "      <th>qtd_avaliacoes</th>\n",
              "    </tr>\n",
              "  </thead>\n",
              "  <tbody>\n",
              "    <tr>\n",
              "      <th>0</th>\n",
              "      <td>1</td>\n",
              "      <td>Toy Story (1995)</td>\n",
              "      <td>Adventure|Animation|Children|Comedy|Fantasy</td>\n",
              "      <td>215</td>\n",
              "    </tr>\n",
              "    <tr>\n",
              "      <th>1</th>\n",
              "      <td>2</td>\n",
              "      <td>Jumanji (1995)</td>\n",
              "      <td>Adventure|Children|Fantasy</td>\n",
              "      <td>110</td>\n",
              "    </tr>\n",
              "    <tr>\n",
              "      <th>2</th>\n",
              "      <td>3</td>\n",
              "      <td>Grumpier Old Men (1995)</td>\n",
              "      <td>Comedy|Romance</td>\n",
              "      <td>52</td>\n",
              "    </tr>\n",
              "    <tr>\n",
              "      <th>3</th>\n",
              "      <td>4</td>\n",
              "      <td>Waiting to Exhale (1995)</td>\n",
              "      <td>Comedy|Drama|Romance</td>\n",
              "      <td>7</td>\n",
              "    </tr>\n",
              "    <tr>\n",
              "      <th>4</th>\n",
              "      <td>5</td>\n",
              "      <td>Father of the Bride Part II (1995)</td>\n",
              "      <td>Comedy</td>\n",
              "      <td>49</td>\n",
              "    </tr>\n",
              "  </tbody>\n",
              "</table>\n",
              "</div>"
            ],
            "text/plain": [
              "   movieId                               title  \\\n",
              "0        1                    Toy Story (1995)   \n",
              "1        2                      Jumanji (1995)   \n",
              "2        3             Grumpier Old Men (1995)   \n",
              "3        4            Waiting to Exhale (1995)   \n",
              "4        5  Father of the Bride Part II (1995)   \n",
              "\n",
              "                                        genres  qtd_avaliacoes  \n",
              "0  Adventure|Animation|Children|Comedy|Fantasy             215  \n",
              "1                   Adventure|Children|Fantasy             110  \n",
              "2                               Comedy|Romance              52  \n",
              "3                         Comedy|Drama|Romance               7  \n",
              "4                                       Comedy              49  "
            ]
          },
          "metadata": {
            "tags": []
          },
          "execution_count": 272
        }
      ]
    },
    {
      "metadata": {
        "id": "Q4K_XRQZejsU",
        "colab_type": "code",
        "outputId": "03f95694-996b-4de1-d126-666e3d01243a",
        "colab": {
          "base_uri": "https://localhost:8080/",
          "height": 153
        }
      },
      "cell_type": "code",
      "source": [
        "#@title Avaliando as estatísticas descritivas dos dados de quantidade de avaliações\n",
        "media = round(tabela_final[\"qtd_avaliacoes\"].mean(),1)\n",
        "mediana = round(tabela_final[\"qtd_avaliacoes\"].quantile(0.5))\n",
        "quartil_01 = round(tabela_final[\"qtd_avaliacoes\"].quantile(0.25))\n",
        "quartil_03 = round(tabela_final[\"qtd_avaliacoes\"].quantile(0.75))\n",
        "percentil_95 = round(tabela_final[\"qtd_avaliacoes\"].quantile(0.95))\n",
        "percentil_05 = round(tabela_final[\"qtd_avaliacoes\"].quantile(0.05))\n",
        "coeficiente_de_variacao = tabela_final[\"qtd_avaliacoes\"].std()/tabela_final[\"qtd_avaliacoes\"].mean()\n",
        "coeficiente_de_variacao = round(coeficiente_de_variacao*100,2)\n",
        "\n",
        "print(\"-------------------------------------------------------------------------\")\n",
        "print(\"Percentil 05: {}\".format(percentil_05))\n",
        "print(\"percentil 25: {}\".format(quartil_01))\n",
        "print(\"Mediana: {}\".format(mediana))\n",
        "print(\"Média: {}\".format(media))\n",
        "print(\"Percentil 75 : {}\".format(quartil_03))\n",
        "print(\"Percentil 95: {}\".format(percentil_95))\n",
        "print(\"Coeficiente de variação: {}%\".format(coeficiente_de_variacao))"
      ],
      "execution_count": 273,
      "outputs": [
        {
          "output_type": "stream",
          "text": [
            "-------------------------------------------------------------------------\n",
            "Percentil 05: 1\n",
            "percentil 25: 1\n",
            "Mediana: 3\n",
            "Média: 10.4\n",
            "Percentil 75 : 9\n",
            "Percentil 95: 47\n",
            "Coeficiente de variação: 216.02%\n"
          ],
          "name": "stdout"
        }
      ]
    },
    {
      "metadata": {
        "id": "9T-FptEobTjS",
        "colab_type": "text"
      },
      "cell_type": "markdown",
      "source": [
        "**Análise**\n",
        "\n",
        "\n",
        "---\n",
        "\n",
        "\n",
        "\n",
        "Conforme pode-se verificar a Média e a Mediana apresentam valores bem discrepantes. Isso se deve à alta variabilidade dos dados, a qual pode ser mensurada pelo coeficiente de variação de valor igual a 216%."
      ]
    },
    {
      "metadata": {
        "id": "SPixi74vkPh8",
        "colab_type": "code",
        "outputId": "ccd7cdfd-2717-4f62-a325-d044d36678a7",
        "colab": {
          "base_uri": "https://localhost:8080/",
          "height": 453
        }
      },
      "cell_type": "code",
      "source": [
        "#@title Boxplot das avaliações dos filmes\n",
        "\n",
        "ax = sns.boxplot(tabela_final[\"qtd_avaliacoes\"], width=0.4)\n",
        "linha_1 = plt.vlines(x = percentil_95, ymin = -1, ymax = 1, linestyles = {\"dashed\"}, label = \"Percentil 95\")\n",
        "linha_2 = plt.vlines(x = quartil_03, ymin = -1, ymax = 1, linestyles = {\"dashdot\"}, label = \"Percentil 75\")\n",
        "plt.legend(handles = [linha_1,linha_2], fontsize = 15, shadow=True)\n",
        "plt.title(\"Boxplot de Avaliações de filmes\", size = 20)"
      ],
      "execution_count": 274,
      "outputs": [
        {
          "output_type": "stream",
          "text": [
            "/usr/local/lib/python3.6/dist-packages/seaborn/categorical.py:454: FutureWarning: remove_na is deprecated and is a private function. Do not use.\n",
            "  box_data = remove_na(group_data)\n"
          ],
          "name": "stderr"
        },
        {
          "output_type": "execute_result",
          "data": {
            "text/plain": [
              "Text(0.5, 1.0, 'Boxplot de Avaliações de filmes')"
            ]
          },
          "metadata": {
            "tags": []
          },
          "execution_count": 274
        },
        {
          "output_type": "display_data",
          "data": {
            "image/png": "[encoded data removed]",
            "text/plain": [
              "<Figure size 576x396 with 1 Axes>"
            ]
          },
          "metadata": {
            "tags": []
          }
        }
      ]
    },
    {
      "metadata": {
        "id": "8l1jhDYqp70f",
        "colab_type": "text"
      },
      "cell_type": "markdown",
      "source": [
        ""
      ]
    },
    {
      "metadata": {
        "id": "tozR9_oVitjF",
        "colab_type": "text"
      },
      "cell_type": "markdown",
      "source": [
        "**Análise**\n",
        "\n",
        "---\n",
        "\n",
        "Observando o boxplot, percebe-se que poucos filmes tiveram um número de avaliações muito alto, quando comparados à grande maioria.\n",
        "\n",
        "A partir dessa avaliação, podem-se considerar algumas questões:\n",
        "\n",
        "**Por que existe uma pequena parcela filmes que possuem um número de avaliações muito acima da grande maioria?**\n",
        "\n",
        "**Seria por conta do gênero?**\n",
        "\n",
        "**Seria o impacto que esses filmes causaram no público?**\n",
        "\n",
        "---\n",
        "Vamos avaliar essas questões a partir das seguintes hipóteses:\n",
        "\n",
        "1. A maior quantidade de avaliações ocorreu devido à satisfação dos usuários com relação ao filme? Se isso for verdade, então a nota dos 25% dos filmes mais votados deve ser maior.\n",
        "\n",
        "2. O maior engajamento dos filmes ocorre para gêneros específicos? Se isso é verdade, então a distribuição dos gêneros dos filmes mais votados deve ser diferente dos gêneros menos votados\n",
        "\n",
        "\n",
        "\n",
        "---\n",
        "\n",
        "\n"
      ]
    },
    {
      "metadata": {
        "id": "2BGme3e6jli3",
        "colab_type": "text"
      },
      "cell_type": "markdown",
      "source": [
        "# 5) Avaliação das notas dos 25% dos filmes com mais avaliações"
      ]
    },
    {
      "metadata": {
        "id": "1P3gYOojHbVJ",
        "colab_type": "code",
        "outputId": "c3704536-3f07-402b-ab7b-847d2d1a96ca",
        "colab": {
          "base_uri": "https://localhost:8080/",
          "height": 221
        }
      },
      "cell_type": "code",
      "source": [
        "#@ title Selecionando os 25% dos filmes mais votados\n",
        "filtro_filmes_mais_votados = tabela_final[\"qtd_avaliacoes\"] >= tabela_final[\"qtd_avaliacoes\"].quantile(0.75)\n",
        "tabela_final_filtrada = tabela_final[filtro_filmes_mais_votados]\n",
        "\n",
        "# Selecionando os filmes mais votados da tabela de Ratings\n",
        "indices_dos_filmes_mais_votados = tabela_final_filtrada[\"movieId\"]\n",
        "segundo_filtro_filmes_mais_votados = ratings[\"movieId\"].isin(indices_dos_filmes_mais_votados)\n",
        "filmes_mais_votados = ratings[segundo_filtro_filmes_mais_votados]\n",
        "\n",
        "# Unindo as tabelas de Filmes mais votados com a tabela Movies (Para unir as avaliações com os nomes dos filmes)\n",
        "tabela_final_filmes_mais_votados = pd.merge(filmes_mais_votados, movies, left_on=\"movieId\", right_on=\"movieId\", how = \"left\")\n",
        "\n",
        "# Verificando os resultados finais\n",
        "qtde_filmes_mais_votados = tabela_final_filmes_mais_votados[\"movieId\"].drop_duplicates().count()\n",
        "print(\"Dos {} filmes avaliados, {} foram os 25% mais votados\".format(numero_de_filmes_avaliados, qtde_filmes_mais_votados))\n",
        "tabela_final_filmes_mais_votados.head()"
      ],
      "execution_count": 275,
      "outputs": [
        {
          "output_type": "stream",
          "text": [
            "Dos 9724 filmes avaliados, 2441 foram os 25% mais votados\n"
          ],
          "name": "stdout"
        },
        {
          "output_type": "execute_result",
          "data": {
            "text/html": [
              "<div>\n",
              "<style scoped>\n",
              "    .dataframe tbody tr th:only-of-type {\n",
              "        vertical-align: middle;\n",
              "    }\n",
              "\n",
              "    .dataframe tbody tr th {\n",
              "        vertical-align: top;\n",
              "    }\n",
              "\n",
              "    .dataframe thead th {\n",
              "        text-align: right;\n",
              "    }\n",
              "</style>\n",
              "<table border=\"1\" class=\"dataframe\">\n",
              "  <thead>\n",
              "    <tr style=\"text-align: right;\">\n",
              "      <th></th>\n",
              "      <th>userId</th>\n",
              "      <th>movieId</th>\n",
              "      <th>rating</th>\n",
              "      <th>timestamp</th>\n",
              "      <th>title</th>\n",
              "      <th>genres</th>\n",
              "    </tr>\n",
              "  </thead>\n",
              "  <tbody>\n",
              "    <tr>\n",
              "      <th>0</th>\n",
              "      <td>1</td>\n",
              "      <td>1</td>\n",
              "      <td>4.0</td>\n",
              "      <td>964982703</td>\n",
              "      <td>Toy Story (1995)</td>\n",
              "      <td>Adventure|Animation|Children|Comedy|Fantasy</td>\n",
              "    </tr>\n",
              "    <tr>\n",
              "      <th>1</th>\n",
              "      <td>1</td>\n",
              "      <td>3</td>\n",
              "      <td>4.0</td>\n",
              "      <td>964981247</td>\n",
              "      <td>Grumpier Old Men (1995)</td>\n",
              "      <td>Comedy|Romance</td>\n",
              "    </tr>\n",
              "    <tr>\n",
              "      <th>2</th>\n",
              "      <td>1</td>\n",
              "      <td>6</td>\n",
              "      <td>4.0</td>\n",
              "      <td>964982224</td>\n",
              "      <td>Heat (1995)</td>\n",
              "      <td>Action|Crime|Thriller</td>\n",
              "    </tr>\n",
              "    <tr>\n",
              "      <th>3</th>\n",
              "      <td>1</td>\n",
              "      <td>47</td>\n",
              "      <td>5.0</td>\n",
              "      <td>964983815</td>\n",
              "      <td>Seven (a.k.a. Se7en) (1995)</td>\n",
              "      <td>Mystery|Thriller</td>\n",
              "    </tr>\n",
              "    <tr>\n",
              "      <th>4</th>\n",
              "      <td>1</td>\n",
              "      <td>50</td>\n",
              "      <td>5.0</td>\n",
              "      <td>964982931</td>\n",
              "      <td>Usual Suspects, The (1995)</td>\n",
              "      <td>Crime|Mystery|Thriller</td>\n",
              "    </tr>\n",
              "  </tbody>\n",
              "</table>\n",
              "</div>"
            ],
            "text/plain": [
              "   userId  movieId  rating  timestamp                        title  \\\n",
              "0       1        1     4.0  964982703             Toy Story (1995)   \n",
              "1       1        3     4.0  964981247      Grumpier Old Men (1995)   \n",
              "2       1        6     4.0  964982224                  Heat (1995)   \n",
              "3       1       47     5.0  964983815  Seven (a.k.a. Se7en) (1995)   \n",
              "4       1       50     5.0  964982931   Usual Suspects, The (1995)   \n",
              "\n",
              "                                        genres  \n",
              "0  Adventure|Animation|Children|Comedy|Fantasy  \n",
              "1                               Comedy|Romance  \n",
              "2                        Action|Crime|Thriller  \n",
              "3                             Mystery|Thriller  \n",
              "4                       Crime|Mystery|Thriller  "
            ]
          },
          "metadata": {
            "tags": []
          },
          "execution_count": 275
        }
      ]
    },
    {
      "metadata": {
        "id": "6kR2RduJmwF4",
        "colab_type": "text"
      },
      "cell_type": "markdown",
      "source": [
        "**Análise**\n",
        "\n",
        "\n",
        "---\n",
        "\n",
        "\n",
        "Inicialmente, vamos testar a hipótese de que o maior engajamento por parte dos avaliadores ocorreu devido à qualidade do filmes. Para isso, vamos avaliar se a notas dos 25% dos filmes mais votados deverá ser maior do que a nota dos demais.\n",
        "\n",
        "Para realizar este teste, vamos primeiramente verificar se as notas dos filmes mais votados é normalmente distribuída."
      ]
    },
    {
      "metadata": {
        "id": "qOuWUdAame5C",
        "colab_type": "code",
        "outputId": "8ba56cc7-29ca-4ddb-fc31-039932cdd874",
        "colab": {
          "base_uri": "https://localhost:8080/",
          "height": 386
        }
      },
      "cell_type": "code",
      "source": [
        "#@title Verificando a normalidade dos dados\n",
        "plt.hist(tabela_final_filmes_mais_votados[\"rating\"], bins = 10)\n",
        "plt.title(\"Notas dos 25% dos filmes mais votados\", size = 20)\n",
        "plt.xlabel(\"Notas\", size = 15)\n",
        "plt.ylabel(\"Frequência\", size = 15)\n",
        "plt.show()"
      ],
      "execution_count": 276,
      "outputs": [
        {
          "output_type": "display_data",
          "data": {
            "image/png": "[encoded data removed]",
            "text/plain": [
              "<Figure size 576x396 with 1 Axes>"
            ]
          },
          "metadata": {
            "tags": []
          }
        }
      ]
    },
    {
      "metadata": {
        "id": "JMqyoDYxqr6V",
        "colab_type": "text"
      },
      "cell_type": "markdown",
      "source": [
        "**Análise**\n",
        "\n",
        "\n",
        "---\n",
        "\n",
        "\n",
        "A partir do histograma, percebe-se que existe uma assimetria à esquerda e, a variação da frequência ao longo das notas é uma evidência de que os dados podem não ter distribuição normal."
      ]
    },
    {
      "metadata": {
        "id": "iOfJ-XHlroMZ",
        "colab_type": "code",
        "outputId": "de361cc3-2778-43f9-e0d9-581cb3618018",
        "colab": {
          "base_uri": "https://localhost:8080/",
          "height": 51
        }
      },
      "cell_type": "code",
      "source": [
        "#@title Teste numérico de normalidade\n",
        "stat, p = normaltest(tabela_final_filmes_mais_votados[\"rating\"])\n",
        "print(\"p-valor: {}\".format(round(p,3)))\n",
        "print(\"Estatística do teste: {}\".format(round(stat)))"
      ],
      "execution_count": 277,
      "outputs": [
        {
          "output_type": "stream",
          "text": [
            "p-valor: 0.0\n",
            "Estatística do teste: 5359.0\n"
          ],
          "name": "stdout"
        }
      ]
    },
    {
      "metadata": {
        "id": "ALt-MVolsSgf",
        "colab_type": "text"
      },
      "cell_type": "markdown",
      "source": [
        "**Análise**\n",
        "\n",
        "\n",
        "---\n",
        "\n",
        "\n",
        "Com base no p-value, deve-se descartar a hipótese de que as nostas possuem distribuição normal.\n",
        "\n",
        "A partir das conclusões anteriores, a alternativa que nos resta para testar as médias das notas é o teste não-paramétrico de Wilcoxon.\n",
        "\n",
        "\n",
        "\n",
        "---\n",
        "\n",
        "**Teste de Wilcoxson**\n",
        "\n",
        "\n",
        "O teste estatístico de Wilcoxon avalia se duas amostras provém da mesma distribuição. Se o resultado do teste indicar que as amostras não provém da mesma distribuição, vamos comparar as médias e medianas dos grupos para avaliar qual é a maior."
      ]
    },
    {
      "metadata": {
        "id": "Cg7aOXcyKLXp",
        "colab_type": "code",
        "outputId": "4be6c992-f2c0-4d08-cd70-5d9a21d4d725",
        "colab": {
          "base_uri": "https://localhost:8080/",
          "height": 427
        }
      },
      "cell_type": "code",
      "source": [
        "#@title Separando os dados dos 75% dos filmes menos votados\n",
        "filtro_filmes_menos_votados = tabela_final[\"qtd_avaliacoes\"] < tabela_final[\"qtd_avaliacoes\"].quantile(0.75)\n",
        "filmes_menos_votados = tabela_final[filtro_filmes_menos_votados]\n",
        "\n",
        "# Selecionando os filmes menos votados da tabela de Ratings\n",
        "indices_dos_filmes_menos_votados = filmes_menos_votados[\"movieId\"]\n",
        "segundo_filtro_filmes_menos_votados = ratings[\"movieId\"].isin(indices_dos_filmes_menos_votados)\n",
        "filmes_menos_votados_final = ratings[segundo_filtro_filmes_menos_votados]\n",
        "\n",
        "# Unindo as tabelas de Filmes mais votados com a tabela Movies (Para unir as avaliações com os nomes dos filmes)\n",
        "tabela_final_filmes_menos_votados = pd.merge(filmes_menos_votados_final, movies, left_on=\"movieId\", right_on=\"movieId\", how = \"inner\")\n",
        "\n",
        "# Avaliando o resultado da filtragem\n",
        "qtde_filmes_menos_votados = tabela_final_filmes_menos_votados[\"movieId\"].drop_duplicates().count()\n",
        "print(\"-----------------------------------------------------------------------\")\n",
        "print(\"Foram selecionados {} de {} filmes\".format(qtde_filmes_menos_votados, numero_de_filmes_avaliados))\n",
        "print(\"Ao todos, são {} filmes mais votados, {} menos votados, somando um total de {} filmes\".format(qtde_filmes_mais_votados, qtde_filmes_menos_votados, numero_de_filmes_avaliados))\n",
        "print(\"-----------------------------------------------------------------------\")\n",
        "\n",
        "# Tabela final de filmes menos votados\n",
        "tabela_final_filmes_menos_votados.head(10)\n"
      ],
      "execution_count": 278,
      "outputs": [
        {
          "output_type": "stream",
          "text": [
            "-----------------------------------------------------------------------\n",
            "Foram selecionados 7283 de 9724 filmes\n",
            "Ao todos, são 2441 filmes mais votados, 7283 menos votados, somando um total de 9724 filmes\n",
            "-----------------------------------------------------------------------\n"
          ],
          "name": "stdout"
        },
        {
          "output_type": "execute_result",
          "data": {
            "text/html": [
              "<div>\n",
              "<style scoped>\n",
              "    .dataframe tbody tr th:only-of-type {\n",
              "        vertical-align: middle;\n",
              "    }\n",
              "\n",
              "    .dataframe tbody tr th {\n",
              "        vertical-align: top;\n",
              "    }\n",
              "\n",
              "    .dataframe thead th {\n",
              "        text-align: right;\n",
              "    }\n",
              "</style>\n",
              "<table border=\"1\" class=\"dataframe\">\n",
              "  <thead>\n",
              "    <tr style=\"text-align: right;\">\n",
              "      <th></th>\n",
              "      <th>userId</th>\n",
              "      <th>movieId</th>\n",
              "      <th>rating</th>\n",
              "      <th>timestamp</th>\n",
              "      <th>title</th>\n",
              "      <th>genres</th>\n",
              "    </tr>\n",
              "  </thead>\n",
              "  <tbody>\n",
              "    <tr>\n",
              "      <th>0</th>\n",
              "      <td>1</td>\n",
              "      <td>804</td>\n",
              "      <td>4.0</td>\n",
              "      <td>964980499</td>\n",
              "      <td>She's the One (1996)</td>\n",
              "      <td>Comedy|Romance</td>\n",
              "    </tr>\n",
              "    <tr>\n",
              "      <th>1</th>\n",
              "      <td>51</td>\n",
              "      <td>804</td>\n",
              "      <td>5.0</td>\n",
              "      <td>1230931511</td>\n",
              "      <td>She's the One (1996)</td>\n",
              "      <td>Comedy|Romance</td>\n",
              "    </tr>\n",
              "    <tr>\n",
              "      <th>2</th>\n",
              "      <td>113</td>\n",
              "      <td>804</td>\n",
              "      <td>3.0</td>\n",
              "      <td>980051922</td>\n",
              "      <td>She's the One (1996)</td>\n",
              "      <td>Comedy|Romance</td>\n",
              "    </tr>\n",
              "    <tr>\n",
              "      <th>3</th>\n",
              "      <td>117</td>\n",
              "      <td>804</td>\n",
              "      <td>3.0</td>\n",
              "      <td>844163929</td>\n",
              "      <td>She's the One (1996)</td>\n",
              "      <td>Comedy|Romance</td>\n",
              "    </tr>\n",
              "    <tr>\n",
              "      <th>4</th>\n",
              "      <td>414</td>\n",
              "      <td>804</td>\n",
              "      <td>3.0</td>\n",
              "      <td>961439308</td>\n",
              "      <td>She's the One (1996)</td>\n",
              "      <td>Comedy|Romance</td>\n",
              "    </tr>\n",
              "    <tr>\n",
              "      <th>5</th>\n",
              "      <td>489</td>\n",
              "      <td>804</td>\n",
              "      <td>2.0</td>\n",
              "      <td>1333831977</td>\n",
              "      <td>She's the One (1996)</td>\n",
              "      <td>Comedy|Romance</td>\n",
              "    </tr>\n",
              "    <tr>\n",
              "      <th>6</th>\n",
              "      <td>555</td>\n",
              "      <td>804</td>\n",
              "      <td>4.0</td>\n",
              "      <td>978744726</td>\n",
              "      <td>She's the One (1996)</td>\n",
              "      <td>Comedy|Romance</td>\n",
              "    </tr>\n",
              "    <tr>\n",
              "      <th>7</th>\n",
              "      <td>603</td>\n",
              "      <td>804</td>\n",
              "      <td>2.0</td>\n",
              "      <td>963178746</td>\n",
              "      <td>She's the One (1996)</td>\n",
              "      <td>Comedy|Romance</td>\n",
              "    </tr>\n",
              "    <tr>\n",
              "      <th>8</th>\n",
              "      <td>1</td>\n",
              "      <td>940</td>\n",
              "      <td>5.0</td>\n",
              "      <td>964982176</td>\n",
              "      <td>Adventures of Robin Hood, The (1938)</td>\n",
              "      <td>Action|Adventure|Romance</td>\n",
              "    </tr>\n",
              "    <tr>\n",
              "      <th>9</th>\n",
              "      <td>57</td>\n",
              "      <td>940</td>\n",
              "      <td>4.0</td>\n",
              "      <td>969753691</td>\n",
              "      <td>Adventures of Robin Hood, The (1938)</td>\n",
              "      <td>Action|Adventure|Romance</td>\n",
              "    </tr>\n",
              "  </tbody>\n",
              "</table>\n",
              "</div>"
            ],
            "text/plain": [
              "   userId  movieId  rating   timestamp                                 title  \\\n",
              "0       1      804     4.0   964980499                  She's the One (1996)   \n",
              "1      51      804     5.0  1230931511                  She's the One (1996)   \n",
              "2     113      804     3.0   980051922                  She's the One (1996)   \n",
              "3     117      804     3.0   844163929                  She's the One (1996)   \n",
              "4     414      804     3.0   961439308                  She's the One (1996)   \n",
              "5     489      804     2.0  1333831977                  She's the One (1996)   \n",
              "6     555      804     4.0   978744726                  She's the One (1996)   \n",
              "7     603      804     2.0   963178746                  She's the One (1996)   \n",
              "8       1      940     5.0   964982176  Adventures of Robin Hood, The (1938)   \n",
              "9      57      940     4.0   969753691  Adventures of Robin Hood, The (1938)   \n",
              "\n",
              "                     genres  \n",
              "0            Comedy|Romance  \n",
              "1            Comedy|Romance  \n",
              "2            Comedy|Romance  \n",
              "3            Comedy|Romance  \n",
              "4            Comedy|Romance  \n",
              "5            Comedy|Romance  \n",
              "6            Comedy|Romance  \n",
              "7            Comedy|Romance  \n",
              "8  Action|Adventure|Romance  \n",
              "9  Action|Adventure|Romance  "
            ]
          },
          "metadata": {
            "tags": []
          },
          "execution_count": 278
        }
      ]
    },
    {
      "metadata": {
        "id": "JL3XZG00zUvP",
        "colab_type": "code",
        "outputId": "84e5840b-f756-4204-dea5-f7fa9b5374c6",
        "colab": {
          "base_uri": "https://localhost:8080/",
          "height": 390
        }
      },
      "cell_type": "code",
      "source": [
        "\n",
        "notas_dos_filmes_mais_votados = tabela_final_filmes_mais_votados[\"rating\"]\n",
        "notas_dos_filmes_menos_votados = tabela_final_filmes_menos_votados[\"rating\"]\n",
        "\n",
        "plt.boxplot([notas_dos_filmes_mais_votados, notas_dos_filmes_menos_votados])\n",
        "plt.suptitle(\"Distribuição das notas dos filmes\", fontweight='bold', size = 20)\n",
        "plt.ylabel(\"Notas\", size = 14)\n",
        "plt.xticks([1,2],[\"25% mais votados\",\"Demais filmes\"], size = 14)\n",
        "plt.show()"
      ],
      "execution_count": 279,
      "outputs": [
        {
          "output_type": "display_data",
          "data": {
            "image/png": "[encoded data removed]",
            "text/plain": [
              "<Figure size 576x396 with 1 Axes>"
            ]
          },
          "metadata": {
            "tags": []
          }
        }
      ]
    },
    {
      "metadata": {
        "id": "oVoFBxKA0lWP",
        "colab_type": "code",
        "outputId": "17fa7fb2-941f-4fd0-8f56-410ef22f610c",
        "colab": {
          "base_uri": "https://localhost:8080/",
          "height": 51
        }
      },
      "cell_type": "code",
      "source": [
        "#@title Teste de Wilcoxon para comparação das amostras\n",
        "estatistica, p = ranksums(notas_dos_filmes_mais_votados, notas_dos_filmes_menos_votados)\n",
        "print(\"p-valor: {}\".format(round(p,2)))\n",
        "print(\"estatistica: {}\".format(round(estatistica,2)))"
      ],
      "execution_count": 280,
      "outputs": [
        {
          "output_type": "stream",
          "text": [
            "p-valor: 0.0\n",
            "estatistica: 41.15\n"
          ],
          "name": "stdout"
        }
      ]
    },
    {
      "metadata": {
        "id": "f3u38SXXKtFb",
        "colab_type": "text"
      },
      "cell_type": "markdown",
      "source": [
        "**Análise**\n",
        "\n",
        "\n",
        "---\n",
        "\n",
        "\n",
        "A partir do p-valor gerado pelo teste de Wilcoxon pode-se rejeitar a hipótese de igualdade das amostras.\n",
        "\n",
        "O próprio boxplot já mostra a diferença entre os dois conjuntos de dados. É possível verificar por meio do gráfico que a maioria das notas dos 25% dos filmes mais avaliados está entre 3 e 4, enquanto que no outro conjunto de filmes, a variação é maior, indo de 2,5 à 4.\n",
        "\n",
        "Para ter uma ideia melhor de como os dados estão distribuidos, vamos avaliar as estatísticas de posição e dispersão de ambos os conjuntos."
      ]
    },
    {
      "metadata": {
        "id": "iN3KuVKELtIe",
        "colab_type": "code",
        "outputId": "2ee8856e-30ca-4a6c-9e06-19e98c7933d6",
        "colab": {
          "base_uri": "https://localhost:8080/",
          "height": 173
        }
      },
      "cell_type": "code",
      "source": [
        "#@title Estatísticas descritivas de ambos os conjunto de dados\n",
        "metricas = {'Filmes mais votados':[\n",
        "    notas_dos_filmes_mais_votados.quantile(0.5),\n",
        "    round(notas_dos_filmes_mais_votados.mean(),2),\n",
        "    round(notas_dos_filmes_mais_votados.std(),2),\n",
        "    round(notas_dos_filmes_mais_votados.std()/notas_dos_filmes_mais_votados.mean(),2)],\n",
        "    'Filmes menos votados':[notas_dos_filmes_mais_votados.quantile(0.5),\n",
        "    round(notas_dos_filmes_menos_votados.mean(),2),\n",
        "    round(notas_dos_filmes_menos_votados.std(),2),\n",
        "    round(notas_dos_filmes_menos_votados.std()/notas_dos_filmes_menos_votados.mean(),2)]}\n",
        "\n",
        "# Gerando as estatísticas descritivas\n",
        "tabela_metricas = pd.DataFrame(metricas)\n",
        "tabela_metricas = tabela_metricas.rename(index={0:'Média',1:'Mediana',2:'Desvio Padrão',3:'Coeficiente de variação'})\n",
        "tabela_metricas\n",
        "\n"
      ],
      "execution_count": 281,
      "outputs": [
        {
          "output_type": "execute_result",
          "data": {
            "text/html": [
              "<div>\n",
              "<style scoped>\n",
              "    .dataframe tbody tr th:only-of-type {\n",
              "        vertical-align: middle;\n",
              "    }\n",
              "\n",
              "    .dataframe tbody tr th {\n",
              "        vertical-align: top;\n",
              "    }\n",
              "\n",
              "    .dataframe thead th {\n",
              "        text-align: right;\n",
              "    }\n",
              "</style>\n",
              "<table border=\"1\" class=\"dataframe\">\n",
              "  <thead>\n",
              "    <tr style=\"text-align: right;\">\n",
              "      <th></th>\n",
              "      <th>Filmes mais votados</th>\n",
              "      <th>Filmes menos votados</th>\n",
              "    </tr>\n",
              "  </thead>\n",
              "  <tbody>\n",
              "    <tr>\n",
              "      <th>Média</th>\n",
              "      <td>4.00</td>\n",
              "      <td>4.00</td>\n",
              "    </tr>\n",
              "    <tr>\n",
              "      <th>Mediana</th>\n",
              "      <td>3.57</td>\n",
              "      <td>3.20</td>\n",
              "    </tr>\n",
              "    <tr>\n",
              "      <th>Desvio Padrão</th>\n",
              "      <td>1.02</td>\n",
              "      <td>1.09</td>\n",
              "    </tr>\n",
              "    <tr>\n",
              "      <th>Coeficiente de variação</th>\n",
              "      <td>0.29</td>\n",
              "      <td>0.34</td>\n",
              "    </tr>\n",
              "  </tbody>\n",
              "</table>\n",
              "</div>"
            ],
            "text/plain": [
              "                         Filmes mais votados  Filmes menos votados\n",
              "Média                                   4.00                  4.00\n",
              "Mediana                                 3.57                  3.20\n",
              "Desvio Padrão                           1.02                  1.09\n",
              "Coeficiente de variação                 0.29                  0.34"
            ]
          },
          "metadata": {
            "tags": []
          },
          "execution_count": 281
        }
      ]
    },
    {
      "metadata": {
        "id": "82UBmoifPt1K",
        "colab_type": "text"
      },
      "cell_type": "markdown",
      "source": [
        "**Análise**\n",
        "\n",
        "\n",
        "---\n",
        "\n",
        "\n",
        "Apesar do teste de Wilcoxon ter apresentado evidências de que os dados apresentam diferenças entre suas distribuições, percebe-se a partir da tabela de estatísticas descritivas, que suas medidas de posição e dispersão estão muito próximas umas das outras. As diferenças estão nos valores das medianas e de coeficiente de variação. \n",
        "\n",
        "Os filmes mais votados possuem nota mediana superior aos menos votados e menor variabilidade. \n",
        "\n",
        "Entretando, para avaliadores mais conservadores, mesmo que o teste estatístico aponte a diferença e a mediana dos filmes mais novos seja superior, talvez essas análises não sejam suficientes. Além disso, os tamanhos das amostras é um fator que pode ter influenciado no teste, pois em muitas bibliografias, o teste de Wilcoxon é conhecido como teste para amostras pareadas.\n",
        "\n",
        "Portanto, para encerrar esse tópico da análise, colocarei como inconclusiva a hipótese de que os filmes com maior engajamento do público são também os que possuem maiores notas.\n",
        "\n",
        "Vamos agora, para a próxima hipótese de que os filmes mais votados são de gêneros específicos."
      ]
    },
    {
      "metadata": {
        "id": "cMKtCdO3jwwa",
        "colab_type": "text"
      },
      "cell_type": "markdown",
      "source": [
        "# 6) O Genero dos filmes mais queridos pela audiência"
      ]
    },
    {
      "metadata": {
        "id": "S-7LL88Mdses",
        "colab_type": "text"
      },
      "cell_type": "markdown",
      "source": [
        "**Análise**\n",
        "\n",
        "\n",
        "---\n",
        "\n",
        "\n",
        "Para fazer a avaliação dos gêneros mais frequêntes em cada filmes, primeiramente serão extraídos as colunas de filmes e gêneros. Depois disso iremos passar uma função para tirar a duplicidade dos dados gerado pela ocorrência de notas dos usuários que votaram"
      ]
    },
    {
      "metadata": {
        "id": "8fshjgCEeOqQ",
        "colab_type": "code",
        "outputId": "5c749f1d-b05d-4e34-ae3c-1fc0480073a2",
        "colab": {
          "base_uri": "https://localhost:8080/",
          "height": 238
        }
      },
      "cell_type": "code",
      "source": [
        "#@title Preparando a base de gêneros dos filmes mais votados\n",
        "\n",
        "# Extraindo as colunas MovieId, Title e genres\n",
        "filmes_mais_votados = tabela_final_filmes_mais_votados[[\"movieId\",\"title\",\"genres\"]]\n",
        "filmes_mais_votados = tabela_final_filmes_mais_votados.drop_duplicates(subset=\"movieId\")\n",
        "\n",
        "# Checagem dos resultados\n",
        "print(\"Quantidade de filmes mais votados: {}\".format(len(filmes_mais_votados)))\n",
        "print(\"Proporção de filmes mais votados: {}%\".format(round(100*len(filmes_mais_votados)/numero_de_filmes_avaliados,2)))\n",
        "filmes_mais_votados.head()\n"
      ],
      "execution_count": 282,
      "outputs": [
        {
          "output_type": "stream",
          "text": [
            "Quantidade de filmes mais votados: 2441\n",
            "Proporção de filmes mais votados: 25.1%\n"
          ],
          "name": "stdout"
        },
        {
          "output_type": "execute_result",
          "data": {
            "text/html": [
              "<div>\n",
              "<style scoped>\n",
              "    .dataframe tbody tr th:only-of-type {\n",
              "        vertical-align: middle;\n",
              "    }\n",
              "\n",
              "    .dataframe tbody tr th {\n",
              "        vertical-align: top;\n",
              "    }\n",
              "\n",
              "    .dataframe thead th {\n",
              "        text-align: right;\n",
              "    }\n",
              "</style>\n",
              "<table border=\"1\" class=\"dataframe\">\n",
              "  <thead>\n",
              "    <tr style=\"text-align: right;\">\n",
              "      <th></th>\n",
              "      <th>userId</th>\n",
              "      <th>movieId</th>\n",
              "      <th>rating</th>\n",
              "      <th>timestamp</th>\n",
              "      <th>title</th>\n",
              "      <th>genres</th>\n",
              "    </tr>\n",
              "  </thead>\n",
              "  <tbody>\n",
              "    <tr>\n",
              "      <th>0</th>\n",
              "      <td>1</td>\n",
              "      <td>1</td>\n",
              "      <td>4.0</td>\n",
              "      <td>964982703</td>\n",
              "      <td>Toy Story (1995)</td>\n",
              "      <td>Adventure|Animation|Children|Comedy|Fantasy</td>\n",
              "    </tr>\n",
              "    <tr>\n",
              "      <th>1</th>\n",
              "      <td>1</td>\n",
              "      <td>3</td>\n",
              "      <td>4.0</td>\n",
              "      <td>964981247</td>\n",
              "      <td>Grumpier Old Men (1995)</td>\n",
              "      <td>Comedy|Romance</td>\n",
              "    </tr>\n",
              "    <tr>\n",
              "      <th>2</th>\n",
              "      <td>1</td>\n",
              "      <td>6</td>\n",
              "      <td>4.0</td>\n",
              "      <td>964982224</td>\n",
              "      <td>Heat (1995)</td>\n",
              "      <td>Action|Crime|Thriller</td>\n",
              "    </tr>\n",
              "    <tr>\n",
              "      <th>3</th>\n",
              "      <td>1</td>\n",
              "      <td>47</td>\n",
              "      <td>5.0</td>\n",
              "      <td>964983815</td>\n",
              "      <td>Seven (a.k.a. Se7en) (1995)</td>\n",
              "      <td>Mystery|Thriller</td>\n",
              "    </tr>\n",
              "    <tr>\n",
              "      <th>4</th>\n",
              "      <td>1</td>\n",
              "      <td>50</td>\n",
              "      <td>5.0</td>\n",
              "      <td>964982931</td>\n",
              "      <td>Usual Suspects, The (1995)</td>\n",
              "      <td>Crime|Mystery|Thriller</td>\n",
              "    </tr>\n",
              "  </tbody>\n",
              "</table>\n",
              "</div>"
            ],
            "text/plain": [
              "   userId  movieId  rating  timestamp                        title  \\\n",
              "0       1        1     4.0  964982703             Toy Story (1995)   \n",
              "1       1        3     4.0  964981247      Grumpier Old Men (1995)   \n",
              "2       1        6     4.0  964982224                  Heat (1995)   \n",
              "3       1       47     5.0  964983815  Seven (a.k.a. Se7en) (1995)   \n",
              "4       1       50     5.0  964982931   Usual Suspects, The (1995)   \n",
              "\n",
              "                                        genres  \n",
              "0  Adventure|Animation|Children|Comedy|Fantasy  \n",
              "1                               Comedy|Romance  \n",
              "2                        Action|Crime|Thriller  \n",
              "3                             Mystery|Thriller  \n",
              "4                       Crime|Mystery|Thriller  "
            ]
          },
          "metadata": {
            "tags": []
          },
          "execution_count": 282
        }
      ]
    },
    {
      "metadata": {
        "id": "bkZ4q6_DRWjq",
        "colab_type": "code",
        "outputId": "9709d419-cf7a-4c80-c748-801275261364",
        "colab": {
          "base_uri": "https://localhost:8080/",
          "height": 238
        }
      },
      "cell_type": "code",
      "source": [
        "#@title  Preparando a base de gêneros dos filmes menos votados\n",
        "\n",
        "# Extraindo as collunas de interesse\n",
        "filmes_menos_votados = tabela_final_filmes_menos_votados[[\"movieId\",\"title\",\"genres\"]]\n",
        "# Tirando os valores duplicados\n",
        "filmes_menos_votados = filmes_menos_votados.drop_duplicates(subset = \"movieId\")\n",
        "\n",
        "# Checagem dos resultados\n",
        "print(\"Quantidade de filmes mais votados: {}\".format(len(filmes_menos_votados)))\n",
        "print(\"Proporção de filmes mais votados: {}%\".format(round(100*len(filmes_menos_votados)/numero_de_filmes_avaliados,2)))\n",
        "filmes_menos_votados.head()"
      ],
      "execution_count": 283,
      "outputs": [
        {
          "output_type": "stream",
          "text": [
            "Quantidade de filmes mais votados: 7283\n",
            "Proporção de filmes mais votados: 74.9%\n"
          ],
          "name": "stdout"
        },
        {
          "output_type": "execute_result",
          "data": {
            "text/html": [
              "<div>\n",
              "<style scoped>\n",
              "    .dataframe tbody tr th:only-of-type {\n",
              "        vertical-align: middle;\n",
              "    }\n",
              "\n",
              "    .dataframe tbody tr th {\n",
              "        vertical-align: top;\n",
              "    }\n",
              "\n",
              "    .dataframe thead th {\n",
              "        text-align: right;\n",
              "    }\n",
              "</style>\n",
              "<table border=\"1\" class=\"dataframe\">\n",
              "  <thead>\n",
              "    <tr style=\"text-align: right;\">\n",
              "      <th></th>\n",
              "      <th>movieId</th>\n",
              "      <th>title</th>\n",
              "      <th>genres</th>\n",
              "    </tr>\n",
              "  </thead>\n",
              "  <tbody>\n",
              "    <tr>\n",
              "      <th>0</th>\n",
              "      <td>804</td>\n",
              "      <td>She's the One (1996)</td>\n",
              "      <td>Comedy|Romance</td>\n",
              "    </tr>\n",
              "    <tr>\n",
              "      <th>8</th>\n",
              "      <td>940</td>\n",
              "      <td>Adventures of Robin Hood, The (1938)</td>\n",
              "      <td>Action|Adventure|Romance</td>\n",
              "    </tr>\n",
              "    <tr>\n",
              "      <th>16</th>\n",
              "      <td>943</td>\n",
              "      <td>Ghost and Mrs. Muir, The (1947)</td>\n",
              "      <td>Drama|Fantasy|Romance</td>\n",
              "    </tr>\n",
              "    <tr>\n",
              "      <th>23</th>\n",
              "      <td>1024</td>\n",
              "      <td>Three Caballeros, The (1945)</td>\n",
              "      <td>Animation|Children|Musical</td>\n",
              "    </tr>\n",
              "    <tr>\n",
              "      <th>29</th>\n",
              "      <td>1226</td>\n",
              "      <td>Quiet Man, The (1952)</td>\n",
              "      <td>Drama|Romance</td>\n",
              "    </tr>\n",
              "  </tbody>\n",
              "</table>\n",
              "</div>"
            ],
            "text/plain": [
              "    movieId                                 title                      genres\n",
              "0       804                  She's the One (1996)              Comedy|Romance\n",
              "8       940  Adventures of Robin Hood, The (1938)    Action|Adventure|Romance\n",
              "16      943       Ghost and Mrs. Muir, The (1947)       Drama|Fantasy|Romance\n",
              "23     1024          Three Caballeros, The (1945)  Animation|Children|Musical\n",
              "29     1226                 Quiet Man, The (1952)               Drama|Romance"
            ]
          },
          "metadata": {
            "tags": []
          },
          "execution_count": 283
        }
      ]
    },
    {
      "metadata": {
        "id": "sAVoPt3Qxoty",
        "colab_type": "code",
        "colab": {
          "base_uri": "https://localhost:8080/",
          "height": 204
        },
        "outputId": "25d3ab6b-a813-4860-db3b-91d9ae865738"
      },
      "cell_type": "code",
      "source": [
        "#@title Preparando a tabela para a sumarização de todos os gêneros\n",
        "todos_os_generos = movies[\"genres\"].str.get_dummies()\n",
        "todos_os_generos = todos_os_generos.sum(axis=0)\n",
        "todos_os_generos = todos_os_generos.reset_index()\n",
        "todos_os_generos.columns = [\"Gêneros\", \"Freq. Total\"]\n",
        "todos_os_generos.head()"
      ],
      "execution_count": 284,
      "outputs": [
        {
          "output_type": "execute_result",
          "data": {
            "text/html": [
              "<div>\n",
              "<style scoped>\n",
              "    .dataframe tbody tr th:only-of-type {\n",
              "        vertical-align: middle;\n",
              "    }\n",
              "\n",
              "    .dataframe tbody tr th {\n",
              "        vertical-align: top;\n",
              "    }\n",
              "\n",
              "    .dataframe thead th {\n",
              "        text-align: right;\n",
              "    }\n",
              "</style>\n",
              "<table border=\"1\" class=\"dataframe\">\n",
              "  <thead>\n",
              "    <tr style=\"text-align: right;\">\n",
              "      <th></th>\n",
              "      <th>Gêneros</th>\n",
              "      <th>Freq. Total</th>\n",
              "    </tr>\n",
              "  </thead>\n",
              "  <tbody>\n",
              "    <tr>\n",
              "      <th>0</th>\n",
              "      <td>(no genres listed)</td>\n",
              "      <td>34</td>\n",
              "    </tr>\n",
              "    <tr>\n",
              "      <th>1</th>\n",
              "      <td>Action</td>\n",
              "      <td>1828</td>\n",
              "    </tr>\n",
              "    <tr>\n",
              "      <th>2</th>\n",
              "      <td>Adventure</td>\n",
              "      <td>1263</td>\n",
              "    </tr>\n",
              "    <tr>\n",
              "      <th>3</th>\n",
              "      <td>Animation</td>\n",
              "      <td>611</td>\n",
              "    </tr>\n",
              "    <tr>\n",
              "      <th>4</th>\n",
              "      <td>Children</td>\n",
              "      <td>664</td>\n",
              "    </tr>\n",
              "  </tbody>\n",
              "</table>\n",
              "</div>"
            ],
            "text/plain": [
              "              Gêneros  Freq. Total\n",
              "0  (no genres listed)           34\n",
              "1              Action         1828\n",
              "2           Adventure         1263\n",
              "3           Animation          611\n",
              "4            Children          664"
            ]
          },
          "metadata": {
            "tags": []
          },
          "execution_count": 284
        }
      ]
    },
    {
      "metadata": {
        "id": "p1p5ThyKSZdU",
        "colab_type": "code",
        "outputId": "65b2b6cb-7a95-46bd-9051-a42a926c7d48",
        "colab": {
          "base_uri": "https://localhost:8080/",
          "height": 204
        }
      },
      "cell_type": "code",
      "source": [
        "#@title Contagem dos gêneros dos filmes mais votados\n",
        "# Transformando os gêneros em dummies\n",
        "generos_filmes_mais_votados = filmes_mais_votados[\"genres\"].str.get_dummies()\n",
        "\n",
        "# Somando os gêneros dos filmes mais votados\n",
        "soma_filmes_mais_votados = generos_filmes_mais_votados.sum(axis=0)\n",
        "soma_filmes_mais_votados = pd.DataFrame({'Gêneros':soma_filmes_mais_votados})\n",
        "soma_filmes_mais_votados = soma_filmes_mais_votados.sort_values(by=['Gêneros'], ascending = False)\n",
        "soma_filmes_mais_votados\n",
        "\n",
        "# Concatenando os valores na tabela geral\n",
        "todos_os_generos_v2 = pd.merge(todos_os_generos, soma_filmes_mais_votados, left_on = \"Gêneros\", right_index=True, how=\"left\")\n",
        "todos_os_generos_v2.columns = [\"Gêneros\", \"Total\", \"Mais votados\"]\n",
        "todos_os_generos_v2.head()\n",
        "\n",
        "# Substituindo os valores Nan por zeros\n",
        "todos_os_generos_v3 = todos_os_generos_v2.fillna(0)\n",
        "todos_os_generos_v3.head()"
      ],
      "execution_count": 285,
      "outputs": [
        {
          "output_type": "execute_result",
          "data": {
            "text/html": [
              "<div>\n",
              "<style scoped>\n",
              "    .dataframe tbody tr th:only-of-type {\n",
              "        vertical-align: middle;\n",
              "    }\n",
              "\n",
              "    .dataframe tbody tr th {\n",
              "        vertical-align: top;\n",
              "    }\n",
              "\n",
              "    .dataframe thead th {\n",
              "        text-align: right;\n",
              "    }\n",
              "</style>\n",
              "<table border=\"1\" class=\"dataframe\">\n",
              "  <thead>\n",
              "    <tr style=\"text-align: right;\">\n",
              "      <th></th>\n",
              "      <th>Gêneros</th>\n",
              "      <th>Total</th>\n",
              "      <th>Mais votados</th>\n",
              "    </tr>\n",
              "  </thead>\n",
              "  <tbody>\n",
              "    <tr>\n",
              "      <th>0</th>\n",
              "      <td>(no genres listed)</td>\n",
              "      <td>34</td>\n",
              "      <td>0.0</td>\n",
              "    </tr>\n",
              "    <tr>\n",
              "      <th>1</th>\n",
              "      <td>Action</td>\n",
              "      <td>1828</td>\n",
              "      <td>693.0</td>\n",
              "    </tr>\n",
              "    <tr>\n",
              "      <th>2</th>\n",
              "      <td>Adventure</td>\n",
              "      <td>1263</td>\n",
              "      <td>523.0</td>\n",
              "    </tr>\n",
              "    <tr>\n",
              "      <th>3</th>\n",
              "      <td>Animation</td>\n",
              "      <td>611</td>\n",
              "      <td>164.0</td>\n",
              "    </tr>\n",
              "    <tr>\n",
              "      <th>4</th>\n",
              "      <td>Children</td>\n",
              "      <td>664</td>\n",
              "      <td>226.0</td>\n",
              "    </tr>\n",
              "  </tbody>\n",
              "</table>\n",
              "</div>"
            ],
            "text/plain": [
              "              Gêneros  Total  Mais votados\n",
              "0  (no genres listed)     34           0.0\n",
              "1              Action   1828         693.0\n",
              "2           Adventure   1263         523.0\n",
              "3           Animation    611         164.0\n",
              "4            Children    664         226.0"
            ]
          },
          "metadata": {
            "tags": []
          },
          "execution_count": 285
        }
      ]
    },
    {
      "metadata": {
        "id": "LWsKtYjS5LFj",
        "colab_type": "code",
        "colab": {
          "base_uri": "https://localhost:8080/",
          "height": 669
        },
        "outputId": "015cef0c-cf8f-4201-fc9e-d0839e2b19a9"
      },
      "cell_type": "code",
      "source": [
        "#@title Adicionando as colunas de frequência relativa\n",
        "todos_os_generos_v3[\"% Mais Votados\"] = round(todos_os_generos_v3[\"Mais votados\"] / todos_os_generos_v3[\"Total\"],3)\n",
        "todos_os_generos_v3[\"% Total\"] = todos_os_generos_v3[\"Total\"] / todos_os_generos_v3[\"Total\"]\n",
        "todos_os_generos_v3 = todos_os_generos_v3.sort_values(by = \"% Mais Votados\", ascending = False)\n",
        "todos_os_generos_v3"
      ],
      "execution_count": 286,
      "outputs": [
        {
          "output_type": "execute_result",
          "data": {
            "text/html": [
              "<div>\n",
              "<style scoped>\n",
              "    .dataframe tbody tr th:only-of-type {\n",
              "        vertical-align: middle;\n",
              "    }\n",
              "\n",
              "    .dataframe tbody tr th {\n",
              "        vertical-align: top;\n",
              "    }\n",
              "\n",
              "    .dataframe thead th {\n",
              "        text-align: right;\n",
              "    }\n",
              "</style>\n",
              "<table border=\"1\" class=\"dataframe\">\n",
              "  <thead>\n",
              "    <tr style=\"text-align: right;\">\n",
              "      <th></th>\n",
              "      <th>Gêneros</th>\n",
              "      <th>Total</th>\n",
              "      <th>Mais votados</th>\n",
              "      <th>% Mais Votados</th>\n",
              "      <th>% Total</th>\n",
              "    </tr>\n",
              "  </thead>\n",
              "  <tbody>\n",
              "    <tr>\n",
              "      <th>12</th>\n",
              "      <td>IMAX</td>\n",
              "      <td>158</td>\n",
              "      <td>93.0</td>\n",
              "      <td>0.589</td>\n",
              "      <td>1.0</td>\n",
              "    </tr>\n",
              "    <tr>\n",
              "      <th>2</th>\n",
              "      <td>Adventure</td>\n",
              "      <td>1263</td>\n",
              "      <td>523.0</td>\n",
              "      <td>0.414</td>\n",
              "      <td>1.0</td>\n",
              "    </tr>\n",
              "    <tr>\n",
              "      <th>16</th>\n",
              "      <td>Sci-Fi</td>\n",
              "      <td>980</td>\n",
              "      <td>376.0</td>\n",
              "      <td>0.384</td>\n",
              "      <td>1.0</td>\n",
              "    </tr>\n",
              "    <tr>\n",
              "      <th>1</th>\n",
              "      <td>Action</td>\n",
              "      <td>1828</td>\n",
              "      <td>693.0</td>\n",
              "      <td>0.379</td>\n",
              "      <td>1.0</td>\n",
              "    </tr>\n",
              "    <tr>\n",
              "      <th>9</th>\n",
              "      <td>Fantasy</td>\n",
              "      <td>779</td>\n",
              "      <td>281.0</td>\n",
              "      <td>0.361</td>\n",
              "      <td>1.0</td>\n",
              "    </tr>\n",
              "    <tr>\n",
              "      <th>4</th>\n",
              "      <td>Children</td>\n",
              "      <td>664</td>\n",
              "      <td>226.0</td>\n",
              "      <td>0.340</td>\n",
              "      <td>1.0</td>\n",
              "    </tr>\n",
              "    <tr>\n",
              "      <th>17</th>\n",
              "      <td>Thriller</td>\n",
              "      <td>1894</td>\n",
              "      <td>636.0</td>\n",
              "      <td>0.336</td>\n",
              "      <td>1.0</td>\n",
              "    </tr>\n",
              "    <tr>\n",
              "      <th>14</th>\n",
              "      <td>Mystery</td>\n",
              "      <td>573</td>\n",
              "      <td>187.0</td>\n",
              "      <td>0.326</td>\n",
              "      <td>1.0</td>\n",
              "    </tr>\n",
              "    <tr>\n",
              "      <th>6</th>\n",
              "      <td>Crime</td>\n",
              "      <td>1199</td>\n",
              "      <td>359.0</td>\n",
              "      <td>0.299</td>\n",
              "      <td>1.0</td>\n",
              "    </tr>\n",
              "    <tr>\n",
              "      <th>13</th>\n",
              "      <td>Musical</td>\n",
              "      <td>334</td>\n",
              "      <td>99.0</td>\n",
              "      <td>0.296</td>\n",
              "      <td>1.0</td>\n",
              "    </tr>\n",
              "    <tr>\n",
              "      <th>18</th>\n",
              "      <td>War</td>\n",
              "      <td>382</td>\n",
              "      <td>111.0</td>\n",
              "      <td>0.291</td>\n",
              "      <td>1.0</td>\n",
              "    </tr>\n",
              "    <tr>\n",
              "      <th>10</th>\n",
              "      <td>Film-Noir</td>\n",
              "      <td>87</td>\n",
              "      <td>25.0</td>\n",
              "      <td>0.287</td>\n",
              "      <td>1.0</td>\n",
              "    </tr>\n",
              "    <tr>\n",
              "      <th>15</th>\n",
              "      <td>Romance</td>\n",
              "      <td>1596</td>\n",
              "      <td>454.0</td>\n",
              "      <td>0.284</td>\n",
              "      <td>1.0</td>\n",
              "    </tr>\n",
              "    <tr>\n",
              "      <th>19</th>\n",
              "      <td>Western</td>\n",
              "      <td>167</td>\n",
              "      <td>46.0</td>\n",
              "      <td>0.275</td>\n",
              "      <td>1.0</td>\n",
              "    </tr>\n",
              "    <tr>\n",
              "      <th>3</th>\n",
              "      <td>Animation</td>\n",
              "      <td>611</td>\n",
              "      <td>164.0</td>\n",
              "      <td>0.268</td>\n",
              "      <td>1.0</td>\n",
              "    </tr>\n",
              "    <tr>\n",
              "      <th>5</th>\n",
              "      <td>Comedy</td>\n",
              "      <td>3756</td>\n",
              "      <td>986.0</td>\n",
              "      <td>0.263</td>\n",
              "      <td>1.0</td>\n",
              "    </tr>\n",
              "    <tr>\n",
              "      <th>8</th>\n",
              "      <td>Drama</td>\n",
              "      <td>4361</td>\n",
              "      <td>1037.0</td>\n",
              "      <td>0.238</td>\n",
              "      <td>1.0</td>\n",
              "    </tr>\n",
              "    <tr>\n",
              "      <th>11</th>\n",
              "      <td>Horror</td>\n",
              "      <td>978</td>\n",
              "      <td>187.0</td>\n",
              "      <td>0.191</td>\n",
              "      <td>1.0</td>\n",
              "    </tr>\n",
              "    <tr>\n",
              "      <th>7</th>\n",
              "      <td>Documentary</td>\n",
              "      <td>440</td>\n",
              "      <td>21.0</td>\n",
              "      <td>0.048</td>\n",
              "      <td>1.0</td>\n",
              "    </tr>\n",
              "    <tr>\n",
              "      <th>0</th>\n",
              "      <td>(no genres listed)</td>\n",
              "      <td>34</td>\n",
              "      <td>0.0</td>\n",
              "      <td>0.000</td>\n",
              "      <td>1.0</td>\n",
              "    </tr>\n",
              "  </tbody>\n",
              "</table>\n",
              "</div>"
            ],
            "text/plain": [
              "               Gêneros  Total  Mais votados  % Mais Votados  % Total\n",
              "12                IMAX    158          93.0           0.589      1.0\n",
              "2            Adventure   1263         523.0           0.414      1.0\n",
              "16              Sci-Fi    980         376.0           0.384      1.0\n",
              "1               Action   1828         693.0           0.379      1.0\n",
              "9              Fantasy    779         281.0           0.361      1.0\n",
              "4             Children    664         226.0           0.340      1.0\n",
              "17            Thriller   1894         636.0           0.336      1.0\n",
              "14             Mystery    573         187.0           0.326      1.0\n",
              "6                Crime   1199         359.0           0.299      1.0\n",
              "13             Musical    334          99.0           0.296      1.0\n",
              "18                 War    382         111.0           0.291      1.0\n",
              "10           Film-Noir     87          25.0           0.287      1.0\n",
              "15             Romance   1596         454.0           0.284      1.0\n",
              "19             Western    167          46.0           0.275      1.0\n",
              "3            Animation    611         164.0           0.268      1.0\n",
              "5               Comedy   3756         986.0           0.263      1.0\n",
              "8                Drama   4361        1037.0           0.238      1.0\n",
              "11              Horror    978         187.0           0.191      1.0\n",
              "7          Documentary    440          21.0           0.048      1.0\n",
              "0   (no genres listed)     34           0.0           0.000      1.0"
            ]
          },
          "metadata": {
            "tags": []
          },
          "execution_count": 286
        }
      ]
    },
    {
      "metadata": {
        "id": "x8BbChbAhBBb",
        "colab_type": "code",
        "outputId": "27cbb71f-94d2-41a1-aae9-671ad457ab29",
        "colab": {
          "base_uri": "https://localhost:8080/",
          "height": 458
        }
      },
      "cell_type": "code",
      "source": [
        "#Plotando o gráfico\n",
        "#f, ax = plt.subplots(figsize=(15, 5))\n",
        "\n",
        "sns.set_color_codes(\"muted\")\n",
        "sns.barplot(y = \"Gêneros\", x = \"% Total\", data = todos_os_generos_v3,\n",
        "            label=\"Menos votados\", color=\"b\")\n",
        "\n",
        "\n",
        "sns.set(style=\"whitegrid\")\n",
        "sns.set_color_codes(\"pastel\")\n",
        "sns.barplot(y = \"Gêneros\", x = \"% Mais Votados\", data = todos_os_generos_v3, \n",
        "            label=\"Mais Votados\",color = \"b\")\n",
        "\n",
        "\n",
        "plt.title(\"Distribuição dos gêneros\", fontweight='bold', size = 20)\n",
        "plt.xlabel(\"Proporção\", size = 16)\n",
        "plt.ylabel(\"Gênero\", size = 16)\n",
        "plt.legend(bbox_to_anchor=(1.05, 1), loc=2, borderaxespad=0.)\n"
      ],
      "execution_count": 287,
      "outputs": [
        {
          "output_type": "stream",
          "text": [
            "/usr/local/lib/python3.6/dist-packages/seaborn/categorical.py:1428: FutureWarning: remove_na is deprecated and is a private function. Do not use.\n",
            "  stat_data = remove_na(group_data)\n"
          ],
          "name": "stderr"
        },
        {
          "output_type": "execute_result",
          "data": {
            "text/plain": [
              "<matplotlib.legend.Legend at 0x7f1a66d4a208>"
            ]
          },
          "metadata": {
            "tags": []
          },
          "execution_count": 287
        },
        {
          "output_type": "display_data",
          "data": {
            "image/png": "[encoded data removed]",
            "text/plain": [
              "<Figure size 576x396 with 1 Axes>"
            ]
          },
          "metadata": {
            "tags": []
          }
        }
      ]
    },
    {
      "metadata": {
        "id": "eui7ZL3C8W5Y",
        "colab_type": "text"
      },
      "cell_type": "markdown",
      "source": [
        "**Análise**\n",
        "\n",
        "\n",
        "---\n",
        "\n",
        "Com base no gráfico de barras, verifica-se que quase 60% dos filmes mais votados são IMAX. Além disso, nota-se que os Gênros Documentário, Horror e Drama apresentam o menor número de engajamento.\n",
        "\n",
        "Logo, percebe-se que o gênero é um fator que parece influenciar muito no engajamento dos avaliadores dos filmes."
      ]
    },
    {
      "metadata": {
        "id": "ClkSq1W29Ykc",
        "colab_type": "text"
      },
      "cell_type": "markdown",
      "source": [
        "# Conclusão\n",
        "\n",
        "\n",
        "---\n",
        "\n",
        "\n",
        "1. Os filmes mais votados possuem maiores notas?\n",
        "\n",
        "Conforme foi verificado, esse argumento não é necessariamente verdadeiro, apesar dos 25% dos filmes mais votados apresentarem valor de mediana superior aos demais. \n",
        "\n",
        "Conforme vimos, o teste de Wilcoxon gerou evidências de que os filmes mais votados apresentam notas distintas dos demais. Entranto, quando avaliamos o Boxplot dos valores e as estatísticas de posição e dispersão, não verifica-se muita diferença.\n",
        "\n",
        "Talvez o fato de haver grupos de tamanhos diferentes, pode ter influenciado o resultado final do teste.\n",
        "\n",
        "Sendo assim, essa hipótese foi inconclusiva.\n",
        "\n",
        "\n",
        "---\n",
        "\n",
        "2. O maior engajamento dos filmes ocorre para gêneros específicos?\n",
        "\n",
        "Conforme vimos na tabela e no gráfico de barras, com as frequências relativas, nota-se que os filmes com maior engajamento são IMAX. Além disso, aqueles com menor engajamento, ou não apresentam Gênero, ou são Documentário, Horror ou Drama.\n",
        "\n",
        "A partir dessas envidências, parece que o Gênero do filmes influencia sim no nível de engajamento dos avaliadores.\n",
        "\n",
        "Poderíamos aplicar teste de hipótese para a proporção para dar continuidade a discussão, mas o estudo ficaria longo demais. Logo encerraremos por aqui.\n"
      ]
    }
  ]
}